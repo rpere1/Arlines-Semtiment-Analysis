{
 "cells": [
  {
   "cell_type": "code",
   "execution_count": 1,
   "metadata": {},
   "outputs": [
    {
     "name": "stderr",
     "output_type": "stream",
     "text": [
      "Using TensorFlow backend.\n"
     ]
    }
   ],
   "source": [
    "import tensorflow as tf\n",
    "import re\n",
    "import pandas as pd\n",
    "import seaborn as sns\n",
    "import matplotlib.pyplot as plt\n",
    "import numpy as np\n",
    "import random\n",
    "np.random.seed(1)\n",
    "import string     \n",
    "from keras.layers import Embedding\n",
    "from keras.preprocessing.text import text_to_word_sequence\n",
    "from keras.preprocessing.text import one_hot\n",
    "from keras.preprocessing import sequence\n",
    "from tensorflow.keras.layers import LSTM\n",
    "import keras\n",
    "from keras.utils import to_categorical\n",
    "import os\n",
    "os.environ['KMP_DUPLICATE_LIB_OK']='True'"
   ]
  },
  {
   "cell_type": "code",
   "execution_count": 2,
   "metadata": {},
   "outputs": [],
   "source": [
    "data = pd.read_csv(\"/Users/Riniperencsik/Desktop/Projects/Twitter Sentiment Analysis/twitter_airlines_data.csv\", encoding= 'unicode_escape')"
   ]
  },
  {
   "cell_type": "code",
   "execution_count": 3,
   "metadata": {},
   "outputs": [],
   "source": [
    "#separate the tweets based on their sentiment\n",
    "\n",
    "data = data[['airline_sentiment', \"text\"]]\n",
    "positive_tweets = list(data[data['airline_sentiment']=='positive']['text'])\n",
    "negative_tweets = list(data[data['airline_sentiment']=='negative']['text'])\n",
    "neutral_tweets = list(data[data['airline_sentiment']=='neutral']['text'])"
   ]
  },
  {
   "cell_type": "code",
   "execution_count": 4,
   "metadata": {},
   "outputs": [],
   "source": [
    "\n",
    "\n",
    "# create test sets and training sets\n",
    "# we want to keep the distribution of classes the same for both sets\n",
    "\n",
    "neutral_train = neutral_tweets[:2480] # 2480 is 80% of the neutral tweets\n",
    "\n",
    "negative_train = negative_tweets[:7343] # 7343 is 80% of the negative tweets\n",
    "\n",
    "positive_train = positive_tweets[:1891] # 1891 is 80% of the positive tweets\n",
    "\n",
    "train = positive_train + negative_train + neutral_train\n",
    "\n",
    "\n",
    "labels_train = [] # create the labels for each tweet\n",
    "\n",
    "for i in range(2480): # 0 for neutral\n",
    "    labels_train.append(0)\n",
    "    \n",
    "for i in range(7343): # 1 for negative\n",
    "    labels_train.append(1)\n",
    "    \n",
    "for i in range(1891): # 2 for positive\n",
    "    labels_train.append(2)\n",
    "    "
   ]
  },
  {
   "cell_type": "code",
   "execution_count": 5,
   "metadata": {},
   "outputs": [],
   "source": [
    "neutral_test = neutral_tweets[2480:] # 20% of the neutral tweets\n",
    "\n",
    "negative_test = negative_tweets[7343:] # 20% of the negative tweets\n",
    "\n",
    "positive_test = positive_tweets[1891:] # 20% of the positive tweets\n",
    "\n",
    "test = positive_test + negative_test + neutral_test\n",
    "\n",
    "\n",
    "labels_test = [] # create the labels for each tweet\n",
    "\n",
    "for i in range(2480, 3099): # 0 for neutral\n",
    "    labels_test.append(0)\n",
    "    \n",
    "for i in range(7343, 9178): # 1 for negative\n",
    "    labels_test.append(1)\n",
    "    \n",
    "for i in range(1891, 2363): # 2 for positive\n",
    "    labels_test.append(2)"
   ]
  },
  {
   "cell_type": "code",
   "execution_count": 6,
   "metadata": {},
   "outputs": [],
   "source": [
    "# convert to one hot vector so that it can be processed by RNN\n",
    "\n",
    "labels_train = to_categorical(labels_train)\n",
    "\n",
    "labels_test = to_categorical(labels_test)"
   ]
  },
  {
   "cell_type": "markdown",
   "metadata": {},
   "source": [
    "Keras requires that the input data be integer encoded so that each words is represented by a unique integer. "
   ]
  },
  {
   "cell_type": "code",
   "execution_count": 7,
   "metadata": {},
   "outputs": [],
   "source": [
    "# convert the tweets to an integer encoded version  \n",
    "# one_hot() creates hash of each word\n",
    "\n",
    "# for training set\n",
    "train_encoded = [one_hot(d,10000) for d in train]\n",
    "\n",
    "# for test set\n",
    "test_encoded = [one_hot(d, 10000) for d in test]"
   ]
  },
  {
   "cell_type": "code",
   "execution_count": 8,
   "metadata": {},
   "outputs": [
    {
     "name": "stdout",
     "output_type": "stream",
     "text": [
      "The longest tweet has 50 number of words\n"
     ]
    }
   ],
   "source": [
    "# keras prefers inputs vectroized and all the same length so we must pad\n",
    "\n",
    "# find the maxmimum number of words in one tweet\n",
    "\n",
    "largest = len(test_encoded[0])\n",
    "\n",
    "for tweet in test_encoded:\n",
    "    if len(tweet) > largest:\n",
    "        largest = len(tweet)\n",
    "        \n",
    "print(\"The longest tweet has {:d} number of words\".format(largest))\n",
    "\n",
    "max_tweet_length = largest\n",
    "\n",
    "\n",
    "train_encoded = sequence.pad_sequences(train_encoded, maxlen = max_tweet_length)\n",
    "\n",
    "# repeat for test set\n",
    "\n",
    "max_tweet_length = largest\n",
    "test_encoded = sequence.pad_sequences(test_encoded, maxlen = max_tweet_length)"
   ]
  },
  {
   "cell_type": "markdown",
   "metadata": {},
   "source": [
    "# Callbacks\n",
    "\n",
    "The callbacks already being used: \n",
    "- BaseLogger: Callback that accumulates epoch average of metrics\n",
    "- ProgbadLogger: Callback that prints metrics to stdout\n",
    "- History: Callback that records events into a history object"
   ]
  },
  {
   "cell_type": "code",
   "execution_count": 9,
   "metadata": {},
   "outputs": [
    {
     "name": "stderr",
     "output_type": "stream",
     "text": [
      "/Users/Riniperencsik/opt/anaconda3/lib/python3.7/site-packages/keras/callbacks/callbacks.py:998: UserWarning: `epsilon` argument is deprecated and will be removed, use `min_delta` instead.\n",
      "  warnings.warn('`epsilon` argument is deprecated and '\n",
      "/Users/Riniperencsik/opt/anaconda3/lib/python3.7/site-packages/keras/callbacks/tensorboard_v2.py:102: UserWarning: The TensorBoard callback does not support embeddings display when using TensorFlow 2.0. Embeddings-related arguments are ignored.\n",
      "  warnings.warn('The TensorBoard callback does not support '\n"
     ]
    }
   ],
   "source": [
    "# verbose 0: silent, doesnt show anything\n",
    "# verbose 1: shows you progress bad\n",
    "# verbose 2: shows one line per epoch\n",
    "\n",
    "# check it out on keras, if u dont know how many epochs to do with model checkpoint, u can save on the best loss its ever seen or best validation accuracy its ever seen\n",
    "\n",
    "# saves a model or weights at some interval so the model can be loaded later to continue training from the state saved\n",
    "\n",
    "from keras.callbacks import ModelCheckpoint\n",
    "\n",
    "mc = ModelCheckpoint(\n",
    "    filepath = \"weights-improvement-{epoch:02d}-{val_accuracy:.2f}.hdf5\", # what to put here?\n",
    "    monitor = 'val_loss',\n",
    "    verbose = 0,\n",
    "    save_best_only = True, # least loss... as opposed to saving each model at the end of each epoch\n",
    "    save_weights_only = True, #\n",
    "    mode = 'min') # min bc we want to minimize loss. max is for val_acc\n",
    "\n",
    "\n",
    "# stops training when a monitored metric has stopped improving\n",
    "\n",
    "from keras.callbacks import EarlyStopping\n",
    "\n",
    "es = EarlyStopping(\n",
    "    monitor = 'val_loss', # monitor the loss\n",
    "    min_delta = 0.01, # wait patience periods for it to do better by the min delta, if it does not then stops training\n",
    "    patience = 2, # number of epochs with no improvement\n",
    "    verbose = 1, \n",
    "    mode = 'min')\n",
    "\n",
    "#from keras.callbacks import LearningRateScheduler\n",
    "\n",
    "#lrs = LearningRateScheduler(lambda epoch: 1./epoch) # at the end of each epoch change the learning rate \n",
    "\n",
    "\n",
    "# reduce learning rate when a metric has stopped improving \n",
    "\n",
    "from keras.callbacks import ReduceLROnPlateau # hardly uses this\n",
    "\n",
    "# models often benefit from reducing the learning rate once learning stagnates\n",
    "rlrop = ReduceLROnPlateau(\n",
    "    monitor = 'val_loss',\n",
    "    factor = 0.1,\n",
    "    patience = 2, # if model does not see improvement by epsilon after 2 epochs then reduce the learning rate\n",
    "    verbose = 0,\n",
    "    mode = 'min',\n",
    "    epsilon = 0.0001,\n",
    "    cooldown = 2, # wait 2 epochs before monitoring the metrics again\n",
    "    min_lr = 0 # minimum learning rate\n",
    " )\n",
    "\n",
    "from keras.callbacks import TensorBoard\n",
    "import datetime, os\n",
    "# https://pythonprogramming.net/tensorboard-analysis-deep-learning-python-tensorflow-keras/\n",
    "# allows to visualize training over time\n",
    "logdir = os.path.join(\"logs\", datetime.datetime.now().strftime(\"%Y%m%d-%H%M%S\"))\n",
    "tb = TensorBoard(\n",
    "    log_dir =logdir,\n",
    "    histogram_freq = 1, # histogram computation\n",
    "    write_graph = True, \n",
    "    write_images = False, \n",
    "    embeddings_freq = 100,\n",
    "    embeddings_layer_names = None, \n",
    "    embeddings_metadata = None)"
   ]
  },
  {
   "cell_type": "markdown",
   "metadata": {},
   "source": [
    "### Layer #1: Word Embeddings\n",
    "\n",
    "Word embeddings provide a vector representation of words and their relative meanings. They can be learned from alternative text data and be resued in following models. There are carefully designed methods of learning word embeddings such as word2vec. Keras supports word embeddings through the embedding layer. Additionally, they can also be learned as part of fitting a Neural Network on text data. Through this layer, the position of a word within the vector space is learned from text and is based on the words that surround the word when it is used. The embedding layer is initialized with random weights and will learn an embedding for all the words. The output of this layer is a 2D vector with one embedding for each word in the input sequence of words. "
   ]
  },
  {
   "cell_type": "markdown",
   "metadata": {},
   "source": [
    "### Layer #2: LSTM\n",
    "\n",
    "Simple RNNs suffer from the vanishing gradient problem where information from previous layers gets lost as the network deepens. An LSTM algorithm was created to avoid this problem by allowing the neural network to carry information across multiple steps. Additionally, an LSTM cell can determine what information to remove as well. Therefore, it can learn to recognize an important input and store it for the future while removing usless information."
   ]
  },
  {
   "cell_type": "markdown",
   "metadata": {},
   "source": [
    "## Dropout\n",
    "\n",
    "The intuition behind the dropout layer is that any one feature cannot be relied on, so the weights must be spread out. Dropout randomly knocks out units in your network so it is as if on every iteration, you are working with a smaller neural network which should have a regularizing effect. If overfitting is a problem in a layer (when the layer has a lot of parameters), you can decrease the keep probability. The downside is that the cost function is less defined and harder to calculate. "
   ]
  },
  {
   "cell_type": "markdown",
   "metadata": {},
   "source": [
    "## Optimization: \n",
    "\n",
    "Momentum - If there is a large learning rate, it might overshoot the optimal value. Momentum smoothes out the steps of gradient descent and allows the algorithm to take a more straightforward path using moving averages. It almost always works better than without momentum and speeds up the algorithm.\n",
    "\n",
    "RMSprop - Helps to speed up gradient descent. The net effect of this is that your updates in the vertical direction are divided by a much larger number so that helps dampen out the oscillations. \n",
    "\n",
    "Adam Optimization - combines momentum and RMSprop."
   ]
  },
  {
   "cell_type": "markdown",
   "metadata": {},
   "source": [
    "## Softmax Classification:\n",
    "\n",
    "Softmax is a generalization of logistic regression that allows for multi-class predictions. Use it in the last layer to generate outputs. It outputs a probability for each class and th loss fucntion tries to make the correct probability as high as possible."
   ]
  },
  {
   "cell_type": "markdown",
   "metadata": {},
   "source": [
    "## Learning Rate Decay\n",
    "\n",
    "Implemented a learning rate decay upon plateau earlier. This helps the problem of local optima. Gradient descent can get stuck in local optima. Plateaus can really slow down learning (which adam can help speed up) when the gradient is close to 0. It is unlikley to get stuck in a local optima so long as yu are training a lage n."
   ]
  },
  {
   "cell_type": "code",
   "execution_count": 11,
   "metadata": {},
   "outputs": [
    {
     "name": "stdout",
     "output_type": "stream",
     "text": [
      "Model: \"sequential_1\"\n",
      "_________________________________________________________________\n",
      "Layer (type)                 Output Shape              Param #   \n",
      "=================================================================\n",
      "embedding_1 (Embedding)      (None, None, 16)          160000    \n",
      "_________________________________________________________________\n",
      "lstm_1 (LSTM)                (None, 256)               279552    \n",
      "_________________________________________________________________\n",
      "dense_1 (Dense)              (None, 3)                 771       \n",
      "=================================================================\n",
      "Total params: 440,323\n",
      "Trainable params: 440,323\n",
      "Non-trainable params: 0\n",
      "_________________________________________________________________\n",
      "None\n"
     ]
    },
    {
     "name": "stderr",
     "output_type": "stream",
     "text": [
      "/Users/Riniperencsik/opt/anaconda3/lib/python3.7/site-packages/tensorflow_core/python/framework/indexed_slices.py:424: UserWarning: Converting sparse IndexedSlices to a dense Tensor of unknown shape. This may consume a large amount of memory.\n",
      "  \"Converting sparse IndexedSlices to a dense Tensor of unknown shape. \"\n"
     ]
    },
    {
     "name": "stdout",
     "output_type": "stream",
     "text": [
      "Train on 11714 samples, validate on 2926 samples\n",
      "Epoch 1/10\n",
      "11714/11714 [==============================] - 125s 11ms/step - loss: 0.8784 - accuracy: 0.6300 - val_loss: 0.8215 - val_accuracy: 0.6394\n",
      "Epoch 2/10\n",
      "11714/11714 [==============================] - 113s 10ms/step - loss: 0.7369 - accuracy: 0.6776 - val_loss: 0.7834 - val_accuracy: 0.6774\n",
      "Epoch 3/10\n",
      "11714/11714 [==============================] - 89s 8ms/step - loss: 0.6623 - accuracy: 0.7237 - val_loss: 0.7900 - val_accuracy: 0.6955\n",
      "Epoch 4/10\n",
      "11714/11714 [==============================] - 97s 8ms/step - loss: 0.5942 - accuracy: 0.7659 - val_loss: 0.7935 - val_accuracy: 0.7157\n",
      "Epoch 00004: early stopping\n",
      "<keras.callbacks.callbacks.History object at 0x1a42c26d10>\n"
     ]
    }
   ],
   "source": [
    "# model down here\n",
    "\n",
    "model = keras.Sequential() # sequential groups a stack of layers\n",
    "\n",
    "model.add(keras.layers.Embedding(10000, 16)) \n",
    "\n",
    "# dropout is a regularization technique that aims to reduce the complexity of the model to prevent overfitting\n",
    "# with dropout, you randomly deactivate certain neurons, layer needs to be tuned\n",
    "model.add(keras.layers.LSTM(256, dropout = 0.5))\n",
    "\n",
    "# a dropout layer is a fully connected nn layer where each input node is connected to each output node\n",
    "model.add(keras.layers.Dense(3, activation = \"softmax\")) # common to put dense layer before output\n",
    "\n",
    "print(model.summary())\n",
    "\n",
    "model.compile(optimizer = \"adam\", loss = \"categorical_crossentropy\", metrics = [\"accuracy\"]) # look up optimizer and loss\n",
    "\n",
    "fitModel = model.fit(train_encoded, \n",
    "                     labels_train, \n",
    "                     epochs =10, \n",
    "                     batch_size = 128, # not using full batch since num samples > 2000\n",
    "                     validation_data = (test_encoded, labels_test), \n",
    "                     verbose = 1,\n",
    "                    callbacks = [tb, mc, es, rlrop])\n",
    "\n",
    "print(fitModel)"
   ]
  },
  {
   "cell_type": "code",
   "execution_count": 12,
   "metadata": {},
   "outputs": [
    {
     "name": "stdout",
     "output_type": "stream",
     "text": [
      "Training Accuracy: 0.8119\n",
      "Testing Accuracy:  0.7157\n"
     ]
    }
   ],
   "source": [
    "# Find train and test accuracy\n",
    "# train accuracy originally 0.91, test = 0.69\n",
    "\n",
    "#after removing the recurrent unit drop out, test accuracy increased 2%\n",
    "loss, accuracy = model.evaluate(train_encoded, labels_train, verbose=False)\n",
    "print(\"Training Accuracy: {:.4f}\".format(accuracy))\n",
    "loss, accuracy = model.evaluate(test_encoded, labels_test, verbose=False)\n",
    "print(\"Testing Accuracy:  {:.4f}\".format(accuracy))"
   ]
  },
  {
   "cell_type": "code",
   "execution_count": 72,
   "metadata": {},
   "outputs": [
    {
     "data": {
      "image/png": "[encoded data removed]",
      "text/plain": [
       "<Figure size 432x288 with 1 Axes>"
      ]
     },
     "metadata": {
      "needs_background": "light"
     },
     "output_type": "display_data"
    },
    {
     "data": {
      "image/png": "[encoded data removed]",
      "text/plain": [
       "<Figure size 432x288 with 1 Axes>"
      ]
     },
     "metadata": {
      "needs_background": "light"
     },
     "output_type": "display_data"
    }
   ],
   "source": [
    "# Plot train/test loss and accuracy\n",
    "acc = fitModel.history['accuracy']\n",
    "val_acc = fitModel.history['val_accuracy']\n",
    "loss = fitModel.history['loss']\n",
    "val_loss = fitModel.history['val_loss']\n",
    "\n",
    "epochs = range(len(acc))\n",
    "\n",
    "plt.plot(epochs, acc, 'g', label='Training acc')\n",
    "plt.plot(epochs, val_acc, 'b', label='Validation acc')\n",
    "plt.title('Training and validation accuracy')\n",
    "plt.legend()\n",
    "\n",
    "plt.figure()\n",
    "\n",
    "plt.plot(epochs, loss, 'g', label='Training loss')\n",
    "plt.plot(epochs, val_loss, 'b', label='Validation loss')\n",
    "plt.title('Training and validation loss')\n",
    "plt.legend()\n",
    "\n",
    "plt.show()"
   ]
  },
  {
   "cell_type": "markdown",
   "metadata": {},
   "source": [
    "## Model with Reduced Dimenstionality"
   ]
  },
  {
   "cell_type": "code",
   "execution_count": 13,
   "metadata": {},
   "outputs": [
    {
     "name": "stdout",
     "output_type": "stream",
     "text": [
      "Model: \"sequential_2\"\n",
      "_________________________________________________________________\n",
      "Layer (type)                 Output Shape              Param #   \n",
      "=================================================================\n",
      "embedding_2 (Embedding)      (None, None, 16)          160000    \n",
      "_________________________________________________________________\n",
      "lstm_2 (LSTM)                (None, 64)                20736     \n",
      "_________________________________________________________________\n",
      "dense_2 (Dense)              (None, 3)                 195       \n",
      "=================================================================\n",
      "Total params: 180,931\n",
      "Trainable params: 180,931\n",
      "Non-trainable params: 0\n",
      "_________________________________________________________________\n",
      "None\n"
     ]
    },
    {
     "name": "stderr",
     "output_type": "stream",
     "text": [
      "/Users/Riniperencsik/opt/anaconda3/lib/python3.7/site-packages/tensorflow_core/python/framework/indexed_slices.py:424: UserWarning: Converting sparse IndexedSlices to a dense Tensor of unknown shape. This may consume a large amount of memory.\n",
      "  \"Converting sparse IndexedSlices to a dense Tensor of unknown shape. \"\n"
     ]
    },
    {
     "name": "stdout",
     "output_type": "stream",
     "text": [
      "Train on 11714 samples, validate on 2926 samples\n",
      "Epoch 1/10\n",
      "11714/11714 [==============================] - 40s 3ms/step - loss: 0.8906 - accuracy: 0.6311 - val_loss: 0.8104 - val_accuracy: 0.6541\n",
      "Epoch 2/10\n",
      "11714/11714 [==============================] - 31s 3ms/step - loss: 0.7461 - accuracy: 0.6801 - val_loss: 0.8063 - val_accuracy: 0.6651\n",
      "Epoch 3/10\n",
      "11714/11714 [==============================] - 30s 3ms/step - loss: 0.6706 - accuracy: 0.7228 - val_loss: 0.7671 - val_accuracy: 0.6992\n",
      "Epoch 4/10\n",
      "11714/11714 [==============================] - 31s 3ms/step - loss: 0.5924 - accuracy: 0.7733 - val_loss: 0.7902 - val_accuracy: 0.7129\n",
      "Epoch 5/10\n",
      "11714/11714 [==============================] - 31s 3ms/step - loss: 0.5210 - accuracy: 0.8051 - val_loss: 0.7772 - val_accuracy: 0.7177\n",
      "Epoch 00005: early stopping\n",
      "<keras.callbacks.callbacks.History object at 0x1a539ecf90>\n"
     ]
    }
   ],
   "source": [
    "# reduce dimensionality\n",
    "\n",
    "model2 = keras.Sequential() # sequential groups a stack of layers\n",
    "\n",
    "model2.add(keras.layers.Embedding(10000, 16)) \n",
    "\n",
    "# dropout is a regularization technique that aims to reduce the complexity of the model to prevent overfitting\n",
    "# with dropout, you randomly deactivate certain neurons, layer needs to be tuned\n",
    "model2.add(keras.layers.LSTM(64, dropout = 0.5))\n",
    "\n",
    "# a dropout layer is a fully connected nn layer where each input node is connected to each output node\n",
    "model2.add(keras.layers.Dense(3, activation = \"softmax\")) # common to put dense layer before output\n",
    "\n",
    "print(model2.summary())\n",
    "\n",
    "model2.compile(optimizer = \"adam\", loss = \"categorical_crossentropy\", metrics = [\"accuracy\"]) # look up optimizer and loss\n",
    "\n",
    "fitModel2 = model2.fit(train_encoded, \n",
    "                     labels_train, \n",
    "                     epochs =10, \n",
    "                     batch_size = 128, \n",
    "                     validation_data = (test_encoded, labels_test), \n",
    "                     verbose = 1,\n",
    "                    callbacks = [tb, mc, es, rlrop])\n",
    "\n",
    "print(fitModel2)"
   ]
  },
  {
   "cell_type": "code",
   "execution_count": 14,
   "metadata": {},
   "outputs": [
    {
     "name": "stdout",
     "output_type": "stream",
     "text": [
      "Training Accuracy: 0.8463\n",
      "Testing Accuracy:  0.7177\n"
     ]
    }
   ],
   "source": [
    "# Find train and test accuracy\n",
    "# train accuracy originally 0.91, test = 0.69\n",
    "loss, accuracy = model2.evaluate(train_encoded, labels_train, verbose=False)\n",
    "print(\"Training Accuracy: {:.4f}\".format(accuracy))\n",
    "loss, accuracy = model2.evaluate(test_encoded, labels_test, verbose=False)\n",
    "print(\"Testing Accuracy:  {:.4f}\".format(accuracy))\n",
    "\n",
    "#test accuracy improved with dimenstionality deduction, although overfitting increased. must increase dropout percentage"
   ]
  },
  {
   "cell_type": "markdown",
   "metadata": {},
   "source": [
    "## Model with Increased Dropout Rate"
   ]
  },
  {
   "cell_type": "code",
   "execution_count": 16,
   "metadata": {},
   "outputs": [
    {
     "name": "stdout",
     "output_type": "stream",
     "text": [
      "WARNING:tensorflow:Large dropout rate: 0.65 (>0.5). In TensorFlow 2.x, dropout() uses dropout rate instead of keep_prob. Please ensure that this is intended.\n",
      "WARNING:tensorflow:Large dropout rate: 0.65 (>0.5). In TensorFlow 2.x, dropout() uses dropout rate instead of keep_prob. Please ensure that this is intended.\n",
      "WARNING:tensorflow:Large dropout rate: 0.65 (>0.5). In TensorFlow 2.x, dropout() uses dropout rate instead of keep_prob. Please ensure that this is intended.\n",
      "WARNING:tensorflow:Large dropout rate: 0.65 (>0.5). In TensorFlow 2.x, dropout() uses dropout rate instead of keep_prob. Please ensure that this is intended.\n",
      "Model: \"sequential_4\"\n",
      "_________________________________________________________________\n",
      "Layer (type)                 Output Shape              Param #   \n",
      "=================================================================\n",
      "embedding_4 (Embedding)      (None, None, 16)          160000    \n",
      "_________________________________________________________________\n",
      "lstm_4 (LSTM)                (None, 64)                20736     \n",
      "_________________________________________________________________\n",
      "dense_4 (Dense)              (None, 3)                 195       \n",
      "=================================================================\n",
      "Total params: 180,931\n",
      "Trainable params: 180,931\n",
      "Non-trainable params: 0\n",
      "_________________________________________________________________\n",
      "None\n"
     ]
    },
    {
     "name": "stderr",
     "output_type": "stream",
     "text": [
      "/Users/Riniperencsik/opt/anaconda3/lib/python3.7/site-packages/tensorflow_core/python/framework/indexed_slices.py:424: UserWarning: Converting sparse IndexedSlices to a dense Tensor of unknown shape. This may consume a large amount of memory.\n",
      "  \"Converting sparse IndexedSlices to a dense Tensor of unknown shape. \"\n"
     ]
    },
    {
     "name": "stdout",
     "output_type": "stream",
     "text": [
      "Train on 11714 samples, validate on 2926 samples\n",
      "Epoch 1/10\n",
      "11714/11714 [==============================] - 36s 3ms/step - loss: 0.9182 - accuracy: 0.6247 - val_loss: 0.8267 - val_accuracy: 0.6381\n",
      "Epoch 2/10\n",
      "11714/11714 [==============================] - 30s 3ms/step - loss: 0.7725 - accuracy: 0.6649 - val_loss: 0.7931 - val_accuracy: 0.6702\n",
      "Epoch 3/10\n",
      "11714/11714 [==============================] - 33s 3ms/step - loss: 0.7011 - accuracy: 0.7089 - val_loss: 0.7983 - val_accuracy: 0.6883\n",
      "Epoch 4/10\n",
      "11714/11714 [==============================] - 30s 3ms/step - loss: 0.6424 - accuracy: 0.7446 - val_loss: 0.7888 - val_accuracy: 0.6941\n",
      "Epoch 00004: early stopping\n",
      "<keras.callbacks.callbacks.History object at 0x1a563bbdd0>\n"
     ]
    }
   ],
   "source": [
    "# increase dropout\n",
    "# reduce dimensionality\n",
    "\n",
    "model3 = keras.Sequential() # sequential groups a stack of layers\n",
    "\n",
    "model3.add(keras.layers.Embedding(10000, 16)) \n",
    "\n",
    "# dropout is a regularization technique that aims to reduce the complexity of the model to prevent overfitting\n",
    "# with dropout, you randomly deactivate certain neurons, layer needs to be tuned\n",
    "model3.add(keras.layers.LSTM(64, dropout = 0.65))\n",
    "\n",
    "# a dropout layer is a fully connected nn layer where each input node is connected to each output node\n",
    "model3.add(keras.layers.Dense(3, activation = \"softmax\")) # common to put dense layer before output\n",
    "\n",
    "print(model3.summary())\n",
    "\n",
    "model3.compile(optimizer = \"adam\", loss = \"categorical_crossentropy\", metrics = [\"accuracy\"]) # look up optimizer and loss\n",
    "\n",
    "fitModel3 = model3.fit(train_encoded, \n",
    "                     labels_train, \n",
    "                     epochs =10, \n",
    "                     batch_size = 128, \n",
    "                     validation_data = (test_encoded, labels_test), \n",
    "                     verbose = 1,\n",
    "                    callbacks = [tb, mc, es, rlrop])\n",
    "\n",
    "print(fitModel3)"
   ]
  },
  {
   "cell_type": "code",
   "execution_count": 17,
   "metadata": {},
   "outputs": [
    {
     "name": "stdout",
     "output_type": "stream",
     "text": [
      "Training Accuracy: 0.7995\n",
      "Testing Accuracy:  0.6941\n"
     ]
    }
   ],
   "source": [
    "# Find train and test accuracy\n",
    "# train accuracy originally 0.91, test = 0.69\n",
    "loss, accuracy = model3.evaluate(train_encoded, labels_train, verbose=False)\n",
    "print(\"Training Accuracy: {:.4f}\".format(accuracy))\n",
    "loss, accuracy = model3.evaluate(test_encoded, labels_test, verbose=False)\n",
    "print(\"Testing Accuracy:  {:.4f}\".format(accuracy))\n",
    "\n",
    "# test accuracy worsened as a result of increasing dropout rate"
   ]
  },
  {
   "cell_type": "markdown",
   "metadata": {},
   "source": [
    "## Model with Batch Normalization\n",
    "\n",
    "Batch Normalization helps to speed up learning by making it so that the inputs take on a similar range of values. It makes hyperparameter search much easier, NN much more robust to the choice of hyperparamters, and easier to train."
   ]
  },
  {
   "cell_type": "code",
   "execution_count": 33,
   "metadata": {},
   "outputs": [
    {
     "name": "stdout",
     "output_type": "stream",
     "text": [
      "Model: \"sequential_11\"\n",
      "_________________________________________________________________\n",
      "Layer (type)                 Output Shape              Param #   \n",
      "=================================================================\n",
      "embedding_11 (Embedding)     (None, None, 16)          160000    \n",
      "_________________________________________________________________\n",
      "lstm_11 (LSTM)               (None, 64)                20736     \n",
      "_________________________________________________________________\n",
      "dense_11 (Dense)             (None, 3)                 195       \n",
      "_________________________________________________________________\n",
      "batch_normalization_7 (Batch (None, 3)                 12        \n",
      "_________________________________________________________________\n",
      "activation_7 (Activation)    (None, 3)                 0         \n",
      "=================================================================\n",
      "Total params: 180,943\n",
      "Trainable params: 180,937\n",
      "Non-trainable params: 6\n",
      "_________________________________________________________________\n",
      "None\n"
     ]
    },
    {
     "name": "stderr",
     "output_type": "stream",
     "text": [
      "/Users/Riniperencsik/opt/anaconda3/lib/python3.7/site-packages/tensorflow_core/python/framework/indexed_slices.py:424: UserWarning: Converting sparse IndexedSlices to a dense Tensor of unknown shape. This may consume a large amount of memory.\n",
      "  \"Converting sparse IndexedSlices to a dense Tensor of unknown shape. \"\n"
     ]
    },
    {
     "name": "stdout",
     "output_type": "stream",
     "text": [
      "Train on 11714 samples, validate on 2926 samples\n",
      "Epoch 1/10\n",
      "11714/11714 [==============================] - 43s 4ms/step - loss: 0.9818 - accuracy: 0.5656 - val_loss: 1.0153 - val_accuracy: 0.6535\n",
      "Epoch 2/10\n",
      "11714/11714 [==============================] - 33s 3ms/step - loss: 0.8004 - accuracy: 0.6868 - val_loss: 0.9368 - val_accuracy: 0.7023\n",
      "Epoch 3/10\n",
      "11714/11714 [==============================] - 34s 3ms/step - loss: 0.6742 - accuracy: 0.7574 - val_loss: 0.9693 - val_accuracy: 0.5513\n",
      "Epoch 4/10\n",
      "11714/11714 [==============================] - 36s 3ms/step - loss: 0.5868 - accuracy: 0.7922 - val_loss: 0.8007 - val_accuracy: 0.6606\n",
      "Epoch 5/10\n",
      "11714/11714 [==============================] - 35s 3ms/step - loss: 0.5155 - accuracy: 0.8254 - val_loss: 0.7385 - val_accuracy: 0.7071\n",
      "Epoch 6/10\n",
      "11714/11714 [==============================] - 40s 3ms/step - loss: 0.4674 - accuracy: 0.8466 - val_loss: 0.8988 - val_accuracy: 0.6183\n",
      "Epoch 7/10\n",
      "11714/11714 [==============================] - 32s 3ms/step - loss: 0.4212 - accuracy: 0.8655 - val_loss: 0.7658 - val_accuracy: 0.6996\n",
      "Epoch 00007: early stopping\n",
      "<keras.callbacks.callbacks.History object at 0x1a5ff41e90>\n"
     ]
    }
   ],
   "source": [
    "# Batch Normalization\n",
    "\n",
    "model3 = keras.Sequential() # sequential groups a stack of layers\n",
    "\n",
    "model3.add(keras.layers.Embedding(10000, 16)) \n",
    "\n",
    "# dropout is a regularization technique that aims to reduce the complexity of the model to prevent overfitting\n",
    "# with dropout, you randomly deactivate certain neurons, layer needs to be tuned\n",
    "model3.add(keras.layers.LSTM(64, dropout = 0.5))\n",
    "\n",
    "# a dropout layer is a fully connected nn layer where each input node is connected to each output node\n",
    "model3.add(keras.layers.Dense(3))# common to put dense layer before output\n",
    "model3.add(keras.layers.BatchNormalization())\n",
    "model3.add(keras.layers.Activation('softmax'))\n",
    "\n",
    "print(model3.summary())\n",
    "\n",
    "model3.compile(optimizer = \"adam\", loss = \"categorical_crossentropy\", metrics = [\"accuracy\"]) # look up optimizer and loss\n",
    "\n",
    "fitModel3 = model3.fit(train_encoded, \n",
    "                     labels_train, \n",
    "                     epochs =10, \n",
    "                     batch_size = 128, \n",
    "                     validation_data = (test_encoded, labels_test), \n",
    "                     verbose = 1,\n",
    "                    callbacks = [tb, mc, es, rlrop])\n",
    "\n",
    "print(fitModel3)"
   ]
  },
  {
   "cell_type": "code",
   "execution_count": 20,
   "metadata": {},
   "outputs": [
    {
     "name": "stdout",
     "output_type": "stream",
     "text": [
      "Training Accuracy: 0.9200\n",
      "Testing Accuracy:  0.6921\n"
     ]
    }
   ],
   "source": [
    "# Find train and test accuracy\n",
    "# train accuracy originally 0.91, test = 0.69\n",
    "loss, accuracy = model3.evaluate(train_encoded, labels_train, verbose=False)\n",
    "print(\"Training Accuracy: {:.4f}\".format(accuracy))\n",
    "loss, accuracy = model3.evaluate(test_encoded, labels_test, verbose=False)\n",
    "print(\"Testing Accuracy:  {:.4f}\".format(accuracy))\n",
    "# test accuracy worsened as a result of batch normalization"
   ]
  },
  {
   "cell_type": "markdown",
   "metadata": {},
   "source": [
    "## Model with Batch Normalization after Activation Layer - NaN Loss "
   ]
  },
  {
   "cell_type": "code",
   "execution_count": 25,
   "metadata": {},
   "outputs": [
    {
     "name": "stdout",
     "output_type": "stream",
     "text": [
      "Model: \"sequential_10\"\n",
      "_________________________________________________________________\n",
      "Layer (type)                 Output Shape              Param #   \n",
      "=================================================================\n",
      "embedding_10 (Embedding)     (None, None, 16)          160000    \n",
      "_________________________________________________________________\n",
      "lstm_10 (LSTM)               (None, 64)                20736     \n",
      "_________________________________________________________________\n",
      "dense_10 (Dense)             (None, 3)                 195       \n",
      "_________________________________________________________________\n",
      "activation_6 (Activation)    (None, 3)                 0         \n",
      "_________________________________________________________________\n",
      "batch_normalization_6 (Batch (None, 3)                 12        \n",
      "=================================================================\n",
      "Total params: 180,943\n",
      "Trainable params: 180,937\n",
      "Non-trainable params: 6\n",
      "_________________________________________________________________\n",
      "None\n"
     ]
    },
    {
     "name": "stderr",
     "output_type": "stream",
     "text": [
      "/Users/Riniperencsik/opt/anaconda3/lib/python3.7/site-packages/tensorflow_core/python/framework/indexed_slices.py:424: UserWarning: Converting sparse IndexedSlices to a dense Tensor of unknown shape. This may consume a large amount of memory.\n",
      "  \"Converting sparse IndexedSlices to a dense Tensor of unknown shape. \"\n"
     ]
    },
    {
     "name": "stdout",
     "output_type": "stream",
     "text": [
      "Train on 11714 samples, validate on 2926 samples\n",
      "Epoch 1/10\n",
      "11714/11714 [==============================] - 51s 4ms/step - loss: nan - accuracy: 0.2162 - val_loss: nan - val_accuracy: 0.2116\n"
     ]
    },
    {
     "ename": "InvalidArgumentError",
     "evalue": "Nan in summary histogram for: embedding_10/embeddings_0 [Op:WriteHistogramSummary] name: embedding_10/embeddings_0/",
     "output_type": "error",
     "traceback": [
      "\u001b[0;31m---------------------------------------------------------------------------\u001b[0m",
      "\u001b[0;31mInvalidArgumentError\u001b[0m                      Traceback (most recent call last)",
      "\u001b[0;32m<ipython-input-25-aa0f2c0fb20d>\u001b[0m in \u001b[0;36m<module>\u001b[0;34m\u001b[0m\n\u001b[1;32m     25\u001b[0m                      \u001b[0mvalidation_data\u001b[0m \u001b[0;34m=\u001b[0m \u001b[0;34m(\u001b[0m\u001b[0mtest_encoded\u001b[0m\u001b[0;34m,\u001b[0m \u001b[0mlabels_test\u001b[0m\u001b[0;34m)\u001b[0m\u001b[0;34m,\u001b[0m\u001b[0;34m\u001b[0m\u001b[0;34m\u001b[0m\u001b[0m\n\u001b[1;32m     26\u001b[0m                      \u001b[0mverbose\u001b[0m \u001b[0;34m=\u001b[0m \u001b[0;36m1\u001b[0m\u001b[0;34m,\u001b[0m\u001b[0;34m\u001b[0m\u001b[0;34m\u001b[0m\u001b[0m\n\u001b[0;32m---> 27\u001b[0;31m                     callbacks = [tb, mc, es, rlrop])\n\u001b[0m\u001b[1;32m     28\u001b[0m \u001b[0;34m\u001b[0m\u001b[0m\n\u001b[1;32m     29\u001b[0m \u001b[0mprint\u001b[0m\u001b[0;34m(\u001b[0m\u001b[0mfitModel4\u001b[0m\u001b[0;34m)\u001b[0m\u001b[0;34m\u001b[0m\u001b[0;34m\u001b[0m\u001b[0m\n",
      "\u001b[0;32m~/opt/anaconda3/lib/python3.7/site-packages/keras/engine/training.py\u001b[0m in \u001b[0;36mfit\u001b[0;34m(self, x, y, batch_size, epochs, verbose, callbacks, validation_split, validation_data, shuffle, class_weight, sample_weight, initial_epoch, steps_per_epoch, validation_steps, validation_freq, max_queue_size, workers, use_multiprocessing, **kwargs)\u001b[0m\n\u001b[1;32m   1237\u001b[0m                                         \u001b[0msteps_per_epoch\u001b[0m\u001b[0;34m=\u001b[0m\u001b[0msteps_per_epoch\u001b[0m\u001b[0;34m,\u001b[0m\u001b[0;34m\u001b[0m\u001b[0;34m\u001b[0m\u001b[0m\n\u001b[1;32m   1238\u001b[0m                                         \u001b[0mvalidation_steps\u001b[0m\u001b[0;34m=\u001b[0m\u001b[0mvalidation_steps\u001b[0m\u001b[0;34m,\u001b[0m\u001b[0;34m\u001b[0m\u001b[0;34m\u001b[0m\u001b[0m\n\u001b[0;32m-> 1239\u001b[0;31m                                         validation_freq=validation_freq)\n\u001b[0m\u001b[1;32m   1240\u001b[0m \u001b[0;34m\u001b[0m\u001b[0m\n\u001b[1;32m   1241\u001b[0m     def evaluate(self,\n",
      "\u001b[0;32m~/opt/anaconda3/lib/python3.7/site-packages/keras/engine/training_arrays.py\u001b[0m in \u001b[0;36mfit_loop\u001b[0;34m(model, fit_function, fit_inputs, out_labels, batch_size, epochs, verbose, callbacks, val_function, val_inputs, shuffle, initial_epoch, steps_per_epoch, validation_steps, validation_freq)\u001b[0m\n\u001b[1;32m    214\u001b[0m                         \u001b[0mepoch_logs\u001b[0m\u001b[0;34m[\u001b[0m\u001b[0;34m'val_'\u001b[0m \u001b[0;34m+\u001b[0m \u001b[0ml\u001b[0m\u001b[0;34m]\u001b[0m \u001b[0;34m=\u001b[0m \u001b[0mo\u001b[0m\u001b[0;34m\u001b[0m\u001b[0;34m\u001b[0m\u001b[0m\n\u001b[1;32m    215\u001b[0m \u001b[0;34m\u001b[0m\u001b[0m\n\u001b[0;32m--> 216\u001b[0;31m         \u001b[0mcallbacks\u001b[0m\u001b[0;34m.\u001b[0m\u001b[0mon_epoch_end\u001b[0m\u001b[0;34m(\u001b[0m\u001b[0mepoch\u001b[0m\u001b[0;34m,\u001b[0m \u001b[0mepoch_logs\u001b[0m\u001b[0;34m)\u001b[0m\u001b[0;34m\u001b[0m\u001b[0;34m\u001b[0m\u001b[0m\n\u001b[0m\u001b[1;32m    217\u001b[0m         \u001b[0;32mif\u001b[0m \u001b[0mcallbacks\u001b[0m\u001b[0;34m.\u001b[0m\u001b[0mmodel\u001b[0m\u001b[0;34m.\u001b[0m\u001b[0mstop_training\u001b[0m\u001b[0;34m:\u001b[0m\u001b[0;34m\u001b[0m\u001b[0;34m\u001b[0m\u001b[0m\n\u001b[1;32m    218\u001b[0m             \u001b[0;32mbreak\u001b[0m\u001b[0;34m\u001b[0m\u001b[0;34m\u001b[0m\u001b[0m\n",
      "\u001b[0;32m~/opt/anaconda3/lib/python3.7/site-packages/keras/callbacks/callbacks.py\u001b[0m in \u001b[0;36mon_epoch_end\u001b[0;34m(self, epoch, logs)\u001b[0m\n\u001b[1;32m    150\u001b[0m         \u001b[0mlogs\u001b[0m \u001b[0;34m=\u001b[0m \u001b[0mlogs\u001b[0m \u001b[0;32mor\u001b[0m \u001b[0;34m{\u001b[0m\u001b[0;34m}\u001b[0m\u001b[0;34m\u001b[0m\u001b[0;34m\u001b[0m\u001b[0m\n\u001b[1;32m    151\u001b[0m         \u001b[0;32mfor\u001b[0m \u001b[0mcallback\u001b[0m \u001b[0;32min\u001b[0m \u001b[0mself\u001b[0m\u001b[0;34m.\u001b[0m\u001b[0mcallbacks\u001b[0m\u001b[0;34m:\u001b[0m\u001b[0;34m\u001b[0m\u001b[0;34m\u001b[0m\u001b[0m\n\u001b[0;32m--> 152\u001b[0;31m             \u001b[0mcallback\u001b[0m\u001b[0;34m.\u001b[0m\u001b[0mon_epoch_end\u001b[0m\u001b[0;34m(\u001b[0m\u001b[0mepoch\u001b[0m\u001b[0;34m,\u001b[0m \u001b[0mlogs\u001b[0m\u001b[0;34m)\u001b[0m\u001b[0;34m\u001b[0m\u001b[0;34m\u001b[0m\u001b[0m\n\u001b[0m\u001b[1;32m    153\u001b[0m \u001b[0;34m\u001b[0m\u001b[0m\n\u001b[1;32m    154\u001b[0m     \u001b[0;32mdef\u001b[0m \u001b[0mon_train_batch_begin\u001b[0m\u001b[0;34m(\u001b[0m\u001b[0mself\u001b[0m\u001b[0;34m,\u001b[0m \u001b[0mbatch\u001b[0m\u001b[0;34m,\u001b[0m \u001b[0mlogs\u001b[0m\u001b[0;34m=\u001b[0m\u001b[0;32mNone\u001b[0m\u001b[0;34m)\u001b[0m\u001b[0;34m:\u001b[0m\u001b[0;34m\u001b[0m\u001b[0;34m\u001b[0m\u001b[0m\n",
      "\u001b[0;32m~/opt/anaconda3/lib/python3.7/site-packages/tensorflow_core/python/keras/callbacks.py\u001b[0m in \u001b[0;36mon_epoch_end\u001b[0;34m(self, epoch, logs)\u001b[0m\n\u001b[1;32m   1612\u001b[0m \u001b[0;34m\u001b[0m\u001b[0m\n\u001b[1;32m   1613\u001b[0m     \u001b[0;32mif\u001b[0m \u001b[0mself\u001b[0m\u001b[0;34m.\u001b[0m\u001b[0mhistogram_freq\u001b[0m \u001b[0;32mand\u001b[0m \u001b[0mepoch\u001b[0m \u001b[0;34m%\u001b[0m \u001b[0mself\u001b[0m\u001b[0;34m.\u001b[0m\u001b[0mhistogram_freq\u001b[0m \u001b[0;34m==\u001b[0m \u001b[0;36m0\u001b[0m\u001b[0;34m:\u001b[0m\u001b[0;34m\u001b[0m\u001b[0;34m\u001b[0m\u001b[0m\n\u001b[0;32m-> 1614\u001b[0;31m       \u001b[0mself\u001b[0m\u001b[0;34m.\u001b[0m\u001b[0m_log_weights\u001b[0m\u001b[0;34m(\u001b[0m\u001b[0mepoch\u001b[0m\u001b[0;34m)\u001b[0m\u001b[0;34m\u001b[0m\u001b[0;34m\u001b[0m\u001b[0m\n\u001b[0m\u001b[1;32m   1615\u001b[0m \u001b[0;34m\u001b[0m\u001b[0m\n\u001b[1;32m   1616\u001b[0m     \u001b[0;32mif\u001b[0m \u001b[0mself\u001b[0m\u001b[0;34m.\u001b[0m\u001b[0membeddings_freq\u001b[0m \u001b[0;32mand\u001b[0m \u001b[0mepoch\u001b[0m \u001b[0;34m%\u001b[0m \u001b[0mself\u001b[0m\u001b[0;34m.\u001b[0m\u001b[0membeddings_freq\u001b[0m \u001b[0;34m==\u001b[0m \u001b[0;36m0\u001b[0m\u001b[0;34m:\u001b[0m\u001b[0;34m\u001b[0m\u001b[0;34m\u001b[0m\u001b[0m\n",
      "\u001b[0;32m~/opt/anaconda3/lib/python3.7/site-packages/tensorflow_core/python/keras/callbacks.py\u001b[0m in \u001b[0;36m_log_weights\u001b[0;34m(self, epoch)\u001b[0m\n\u001b[1;32m   1692\u001b[0m           \u001b[0;32mwith\u001b[0m \u001b[0mops\u001b[0m\u001b[0;34m.\u001b[0m\u001b[0minit_scope\u001b[0m\u001b[0;34m(\u001b[0m\u001b[0;34m)\u001b[0m\u001b[0;34m:\u001b[0m\u001b[0;34m\u001b[0m\u001b[0;34m\u001b[0m\u001b[0m\n\u001b[1;32m   1693\u001b[0m             \u001b[0mweight\u001b[0m \u001b[0;34m=\u001b[0m \u001b[0mK\u001b[0m\u001b[0;34m.\u001b[0m\u001b[0mget_value\u001b[0m\u001b[0;34m(\u001b[0m\u001b[0mweight\u001b[0m\u001b[0;34m)\u001b[0m\u001b[0;34m\u001b[0m\u001b[0;34m\u001b[0m\u001b[0m\n\u001b[0;32m-> 1694\u001b[0;31m           \u001b[0msummary_ops_v2\u001b[0m\u001b[0;34m.\u001b[0m\u001b[0mhistogram\u001b[0m\u001b[0;34m(\u001b[0m\u001b[0mweight_name\u001b[0m\u001b[0;34m,\u001b[0m \u001b[0mweight\u001b[0m\u001b[0;34m,\u001b[0m \u001b[0mstep\u001b[0m\u001b[0;34m=\u001b[0m\u001b[0mepoch\u001b[0m\u001b[0;34m)\u001b[0m\u001b[0;34m\u001b[0m\u001b[0;34m\u001b[0m\u001b[0m\n\u001b[0m\u001b[1;32m   1695\u001b[0m           \u001b[0;32mif\u001b[0m \u001b[0mself\u001b[0m\u001b[0;34m.\u001b[0m\u001b[0mwrite_images\u001b[0m\u001b[0;34m:\u001b[0m\u001b[0;34m\u001b[0m\u001b[0;34m\u001b[0m\u001b[0m\n\u001b[1;32m   1696\u001b[0m             \u001b[0mself\u001b[0m\u001b[0;34m.\u001b[0m\u001b[0m_log_weight_as_image\u001b[0m\u001b[0;34m(\u001b[0m\u001b[0mweight\u001b[0m\u001b[0;34m,\u001b[0m \u001b[0mweight_name\u001b[0m\u001b[0;34m,\u001b[0m \u001b[0mepoch\u001b[0m\u001b[0;34m)\u001b[0m\u001b[0;34m\u001b[0m\u001b[0;34m\u001b[0m\u001b[0m\n",
      "\u001b[0;32m~/opt/anaconda3/lib/python3.7/site-packages/tensorflow_core/python/ops/summary_ops_v2.py\u001b[0m in \u001b[0;36mhistogram\u001b[0;34m(name, tensor, family, step)\u001b[0m\n\u001b[1;32m    799\u001b[0m         name=scope)\n\u001b[1;32m    800\u001b[0m \u001b[0;34m\u001b[0m\u001b[0m\n\u001b[0;32m--> 801\u001b[0;31m   \u001b[0;32mreturn\u001b[0m \u001b[0msummary_writer_function\u001b[0m\u001b[0;34m(\u001b[0m\u001b[0mname\u001b[0m\u001b[0;34m,\u001b[0m \u001b[0mtensor\u001b[0m\u001b[0;34m,\u001b[0m \u001b[0mfunction\u001b[0m\u001b[0;34m,\u001b[0m \u001b[0mfamily\u001b[0m\u001b[0;34m=\u001b[0m\u001b[0mfamily\u001b[0m\u001b[0;34m)\u001b[0m\u001b[0;34m\u001b[0m\u001b[0;34m\u001b[0m\u001b[0m\n\u001b[0m\u001b[1;32m    802\u001b[0m \u001b[0;34m\u001b[0m\u001b[0m\n\u001b[1;32m    803\u001b[0m \u001b[0;34m\u001b[0m\u001b[0m\n",
      "\u001b[0;32m~/opt/anaconda3/lib/python3.7/site-packages/tensorflow_core/python/ops/summary_ops_v2.py\u001b[0m in \u001b[0;36msummary_writer_function\u001b[0;34m(name, tensor, function, family)\u001b[0m\n\u001b[1;32m    728\u001b[0m   \u001b[0;32mwith\u001b[0m \u001b[0mops\u001b[0m\u001b[0;34m.\u001b[0m\u001b[0mdevice\u001b[0m\u001b[0;34m(\u001b[0m\u001b[0;34m\"cpu:0\"\u001b[0m\u001b[0;34m)\u001b[0m\u001b[0;34m:\u001b[0m\u001b[0;34m\u001b[0m\u001b[0;34m\u001b[0m\u001b[0m\n\u001b[1;32m    729\u001b[0m     op = smart_cond.smart_cond(\n\u001b[0;32m--> 730\u001b[0;31m         should_record_summaries(), record, _nothing, name=\"\")\n\u001b[0m\u001b[1;32m    731\u001b[0m     \u001b[0;32mif\u001b[0m \u001b[0;32mnot\u001b[0m \u001b[0mcontext\u001b[0m\u001b[0;34m.\u001b[0m\u001b[0mexecuting_eagerly\u001b[0m\u001b[0;34m(\u001b[0m\u001b[0;34m)\u001b[0m\u001b[0;34m:\u001b[0m\u001b[0;34m\u001b[0m\u001b[0;34m\u001b[0m\u001b[0m\n\u001b[1;32m    732\u001b[0m       \u001b[0mops\u001b[0m\u001b[0;34m.\u001b[0m\u001b[0madd_to_collection\u001b[0m\u001b[0;34m(\u001b[0m\u001b[0mops\u001b[0m\u001b[0;34m.\u001b[0m\u001b[0mGraphKeys\u001b[0m\u001b[0;34m.\u001b[0m\u001b[0m_SUMMARY_COLLECTION\u001b[0m\u001b[0;34m,\u001b[0m \u001b[0mop\u001b[0m\u001b[0;34m)\u001b[0m  \u001b[0;31m# pylint: disable=protected-access\u001b[0m\u001b[0;34m\u001b[0m\u001b[0;34m\u001b[0m\u001b[0m\n",
      "\u001b[0;32m~/opt/anaconda3/lib/python3.7/site-packages/tensorflow_core/python/framework/smart_cond.py\u001b[0m in \u001b[0;36msmart_cond\u001b[0;34m(pred, true_fn, false_fn, name)\u001b[0m\n\u001b[1;32m     52\u001b[0m   \u001b[0;32mif\u001b[0m \u001b[0mpred_value\u001b[0m \u001b[0;32mis\u001b[0m \u001b[0;32mnot\u001b[0m \u001b[0;32mNone\u001b[0m\u001b[0;34m:\u001b[0m\u001b[0;34m\u001b[0m\u001b[0;34m\u001b[0m\u001b[0m\n\u001b[1;32m     53\u001b[0m     \u001b[0;32mif\u001b[0m \u001b[0mpred_value\u001b[0m\u001b[0;34m:\u001b[0m\u001b[0;34m\u001b[0m\u001b[0;34m\u001b[0m\u001b[0m\n\u001b[0;32m---> 54\u001b[0;31m       \u001b[0;32mreturn\u001b[0m \u001b[0mtrue_fn\u001b[0m\u001b[0;34m(\u001b[0m\u001b[0;34m)\u001b[0m\u001b[0;34m\u001b[0m\u001b[0;34m\u001b[0m\u001b[0m\n\u001b[0m\u001b[1;32m     55\u001b[0m     \u001b[0;32melse\u001b[0m\u001b[0;34m:\u001b[0m\u001b[0;34m\u001b[0m\u001b[0;34m\u001b[0m\u001b[0m\n\u001b[1;32m     56\u001b[0m       \u001b[0;32mreturn\u001b[0m \u001b[0mfalse_fn\u001b[0m\u001b[0;34m(\u001b[0m\u001b[0;34m)\u001b[0m\u001b[0;34m\u001b[0m\u001b[0;34m\u001b[0m\u001b[0m\n",
      "\u001b[0;32m~/opt/anaconda3/lib/python3.7/site-packages/tensorflow_core/python/ops/summary_ops_v2.py\u001b[0m in \u001b[0;36mrecord\u001b[0;34m()\u001b[0m\n\u001b[1;32m    721\u001b[0m     with ops.name_scope(name_scope), summary_op_util.summary_scope(\n\u001b[1;32m    722\u001b[0m         name, family, values=[tensor]) as (tag, scope):\n\u001b[0;32m--> 723\u001b[0;31m       \u001b[0;32mwith\u001b[0m \u001b[0mops\u001b[0m\u001b[0;34m.\u001b[0m\u001b[0mcontrol_dependencies\u001b[0m\u001b[0;34m(\u001b[0m\u001b[0;34m[\u001b[0m\u001b[0mfunction\u001b[0m\u001b[0;34m(\u001b[0m\u001b[0mtag\u001b[0m\u001b[0;34m,\u001b[0m \u001b[0mscope\u001b[0m\u001b[0;34m)\u001b[0m\u001b[0;34m]\u001b[0m\u001b[0;34m)\u001b[0m\u001b[0;34m:\u001b[0m\u001b[0;34m\u001b[0m\u001b[0;34m\u001b[0m\u001b[0m\n\u001b[0m\u001b[1;32m    724\u001b[0m         \u001b[0;32mreturn\u001b[0m \u001b[0mconstant_op\u001b[0m\u001b[0;34m.\u001b[0m\u001b[0mconstant\u001b[0m\u001b[0;34m(\u001b[0m\u001b[0;32mTrue\u001b[0m\u001b[0;34m)\u001b[0m\u001b[0;34m\u001b[0m\u001b[0;34m\u001b[0m\u001b[0m\n\u001b[1;32m    725\u001b[0m \u001b[0;34m\u001b[0m\u001b[0m\n",
      "\u001b[0;32m~/opt/anaconda3/lib/python3.7/site-packages/tensorflow_core/python/ops/summary_ops_v2.py\u001b[0m in \u001b[0;36mfunction\u001b[0;34m(tag, scope)\u001b[0m\n\u001b[1;32m    797\u001b[0m         \u001b[0mtag\u001b[0m\u001b[0;34m,\u001b[0m\u001b[0;34m\u001b[0m\u001b[0;34m\u001b[0m\u001b[0m\n\u001b[1;32m    798\u001b[0m         \u001b[0marray_ops\u001b[0m\u001b[0;34m.\u001b[0m\u001b[0midentity\u001b[0m\u001b[0;34m(\u001b[0m\u001b[0mtensor\u001b[0m\u001b[0;34m)\u001b[0m\u001b[0;34m,\u001b[0m\u001b[0;34m\u001b[0m\u001b[0;34m\u001b[0m\u001b[0m\n\u001b[0;32m--> 799\u001b[0;31m         name=scope)\n\u001b[0m\u001b[1;32m    800\u001b[0m \u001b[0;34m\u001b[0m\u001b[0m\n\u001b[1;32m    801\u001b[0m   \u001b[0;32mreturn\u001b[0m \u001b[0msummary_writer_function\u001b[0m\u001b[0;34m(\u001b[0m\u001b[0mname\u001b[0m\u001b[0;34m,\u001b[0m \u001b[0mtensor\u001b[0m\u001b[0;34m,\u001b[0m \u001b[0mfunction\u001b[0m\u001b[0;34m,\u001b[0m \u001b[0mfamily\u001b[0m\u001b[0;34m=\u001b[0m\u001b[0mfamily\u001b[0m\u001b[0;34m)\u001b[0m\u001b[0;34m\u001b[0m\u001b[0;34m\u001b[0m\u001b[0m\n",
      "\u001b[0;32m~/opt/anaconda3/lib/python3.7/site-packages/tensorflow_core/python/ops/gen_summary_ops.py\u001b[0m in \u001b[0;36mwrite_histogram_summary\u001b[0;34m(writer, step, tag, values, name)\u001b[0m\n\u001b[1;32m    584\u001b[0m       \u001b[0;32mtry\u001b[0m\u001b[0;34m:\u001b[0m\u001b[0;34m\u001b[0m\u001b[0;34m\u001b[0m\u001b[0m\n\u001b[1;32m    585\u001b[0m         return write_histogram_summary_eager_fallback(\n\u001b[0;32m--> 586\u001b[0;31m             writer, step, tag, values, name=name, ctx=_ctx)\n\u001b[0m\u001b[1;32m    587\u001b[0m       \u001b[0;32mexcept\u001b[0m \u001b[0m_core\u001b[0m\u001b[0;34m.\u001b[0m\u001b[0m_SymbolicException\u001b[0m\u001b[0;34m:\u001b[0m\u001b[0;34m\u001b[0m\u001b[0;34m\u001b[0m\u001b[0m\n\u001b[1;32m    588\u001b[0m         \u001b[0;32mpass\u001b[0m  \u001b[0;31m# Add nodes to the TensorFlow graph.\u001b[0m\u001b[0;34m\u001b[0m\u001b[0;34m\u001b[0m\u001b[0m\n",
      "\u001b[0;32m~/opt/anaconda3/lib/python3.7/site-packages/tensorflow_core/python/ops/gen_summary_ops.py\u001b[0m in \u001b[0;36mwrite_histogram_summary_eager_fallback\u001b[0;34m(writer, step, tag, values, name, ctx)\u001b[0m\n\u001b[1;32m    620\u001b[0m   \u001b[0m_attrs\u001b[0m \u001b[0;34m=\u001b[0m \u001b[0;34m(\u001b[0m\u001b[0;34m\"T\"\u001b[0m\u001b[0;34m,\u001b[0m \u001b[0m_attr_T\u001b[0m\u001b[0;34m)\u001b[0m\u001b[0;34m\u001b[0m\u001b[0;34m\u001b[0m\u001b[0m\n\u001b[1;32m    621\u001b[0m   _result = _execute.execute(b\"WriteHistogramSummary\", 0, inputs=_inputs_flat,\n\u001b[0;32m--> 622\u001b[0;31m                              attrs=_attrs, ctx=_ctx, name=name)\n\u001b[0m\u001b[1;32m    623\u001b[0m   \u001b[0m_result\u001b[0m \u001b[0;34m=\u001b[0m \u001b[0;32mNone\u001b[0m\u001b[0;34m\u001b[0m\u001b[0;34m\u001b[0m\u001b[0m\n\u001b[1;32m    624\u001b[0m   \u001b[0;32mreturn\u001b[0m \u001b[0m_result\u001b[0m\u001b[0;34m\u001b[0m\u001b[0;34m\u001b[0m\u001b[0m\n",
      "\u001b[0;32m~/opt/anaconda3/lib/python3.7/site-packages/tensorflow_core/python/eager/execute.py\u001b[0m in \u001b[0;36mquick_execute\u001b[0;34m(op_name, num_outputs, inputs, attrs, ctx, name)\u001b[0m\n\u001b[1;32m     65\u001b[0m     \u001b[0;32melse\u001b[0m\u001b[0;34m:\u001b[0m\u001b[0;34m\u001b[0m\u001b[0;34m\u001b[0m\u001b[0m\n\u001b[1;32m     66\u001b[0m       \u001b[0mmessage\u001b[0m \u001b[0;34m=\u001b[0m \u001b[0me\u001b[0m\u001b[0;34m.\u001b[0m\u001b[0mmessage\u001b[0m\u001b[0;34m\u001b[0m\u001b[0;34m\u001b[0m\u001b[0m\n\u001b[0;32m---> 67\u001b[0;31m     \u001b[0msix\u001b[0m\u001b[0;34m.\u001b[0m\u001b[0mraise_from\u001b[0m\u001b[0;34m(\u001b[0m\u001b[0mcore\u001b[0m\u001b[0;34m.\u001b[0m\u001b[0m_status_to_exception\u001b[0m\u001b[0;34m(\u001b[0m\u001b[0me\u001b[0m\u001b[0;34m.\u001b[0m\u001b[0mcode\u001b[0m\u001b[0;34m,\u001b[0m \u001b[0mmessage\u001b[0m\u001b[0;34m)\u001b[0m\u001b[0;34m,\u001b[0m \u001b[0;32mNone\u001b[0m\u001b[0;34m)\u001b[0m\u001b[0;34m\u001b[0m\u001b[0;34m\u001b[0m\u001b[0m\n\u001b[0m\u001b[1;32m     68\u001b[0m   \u001b[0;32mexcept\u001b[0m \u001b[0mTypeError\u001b[0m \u001b[0;32mas\u001b[0m \u001b[0me\u001b[0m\u001b[0;34m:\u001b[0m\u001b[0;34m\u001b[0m\u001b[0;34m\u001b[0m\u001b[0m\n\u001b[1;32m     69\u001b[0m     keras_symbolic_tensors = [\n",
      "\u001b[0;32m~/opt/anaconda3/lib/python3.7/site-packages/six.py\u001b[0m in \u001b[0;36mraise_from\u001b[0;34m(value, from_value)\u001b[0m\n",
      "\u001b[0;31mInvalidArgumentError\u001b[0m: Nan in summary histogram for: embedding_10/embeddings_0 [Op:WriteHistogramSummary] name: embedding_10/embeddings_0/"
     ]
    }
   ],
   "source": [
    "# Batch Normalization\n",
    "\n",
    "model4 = keras.Sequential() # sequential groups a stack of layers\n",
    "\n",
    "model4.add(keras.layers.Embedding(10000, 16)) \n",
    "\n",
    "# dropout is a regularization technique that aims to reduce the complexity of the model to prevent overfitting\n",
    "# with dropout, you randomly deactivate certain neurons, layer needs to be tuned\n",
    "model4.add(keras.layers.LSTM(64, dropout = 0.5))\n",
    "\n",
    "# a dropout layer is a fully connected nn layer where each input node is connected to each output node\n",
    "model4.add(keras.layers.Dense(3))# common to put dense layer before output\n",
    "model4.add(keras.layers.Activation('softmax'))\n",
    "model4.add(keras.layers.BatchNormalization())\n",
    "\n",
    "\n",
    "print(model4.summary())\n",
    "\n",
    "model4.compile(optimizer = \"adam\", loss = \"categorical_crossentropy\", metrics = [\"accuracy\"]) # look up optimizer and loss\n",
    "\n",
    "fitModel4 = model4.fit(train_encoded, \n",
    "                     labels_train, \n",
    "                     epochs =10, \n",
    "                     batch_size = 128, \n",
    "                     validation_data = (test_encoded, labels_test), \n",
    "                     verbose = 1,\n",
    "                    callbacks = [tb, mc, es, rlrop])\n",
    "\n",
    "print(fitModel4)"
   ]
  },
  {
   "cell_type": "code",
   "execution_count": 23,
   "metadata": {},
   "outputs": [
    {
     "name": "stdout",
     "output_type": "stream",
     "text": [
      "Training Accuracy: 0.2117\n",
      "Testing Accuracy:  0.2116\n"
     ]
    }
   ],
   "source": [
    "# Find train and test accuracy\n",
    "# train accuracy originally 0.91, test = 0.69\n",
    "loss, accuracy = model4.evaluate(train_encoded, labels_train, verbose=False)\n",
    "print(\"Training Accuracy: {:.4f}\".format(accuracy))\n",
    "loss, accuracy = model4.evaluate(test_encoded, labels_test, verbose=False)\n",
    "print(\"Testing Accuracy:  {:.4f}\".format(accuracy))"
   ]
  },
  {
   "cell_type": "code",
   "execution_count": 1,
   "metadata": {},
   "outputs": [],
   "source": [
    "#%tensorboard --logdir logs"
   ]
  },
  {
   "cell_type": "code",
   "execution_count": 66,
   "metadata": {},
   "outputs": [],
   "source": [
    "%load_ext tensorboard\n"
   ]
  },
  {
   "cell_type": "markdown",
   "metadata": {},
   "source": [
    "## Up Next:\n",
    "\n",
    "- High Bias: bigger network, train longer, more advanced optimization algorithms\n",
    "- Mini batch size\n",
    "- Learning rate: try a range of values for alpha\n",
    "- Number of layers\n"
   ]
  }
 ],
 "metadata": {
  "kernelspec": {
   "display_name": "Python 3",
   "language": "python",
   "name": "python3"
  },
  "language_info": {
   "codemirror_mode": {
    "name": "ipython",
    "version": 3
   },
   "file_extension": ".py",
   "mimetype": "text/x-python",
   "name": "python",
   "nbconvert_exporter": "python",
   "pygments_lexer": "ipython3",
   "version": "3.7.6"
  }
 },
 "nbformat": 4,
 "nbformat_minor": 4
}
